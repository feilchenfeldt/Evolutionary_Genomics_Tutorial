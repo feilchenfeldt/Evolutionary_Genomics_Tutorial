{
 "cells": [
  {
   "cell_type": "markdown",
   "id": "a7ca7920",
   "metadata": {
    "toc": true,
    "pycharm": {
     "name": "#%% md\n"
    }
   },
   "source": [
    "<h1>Table of Contents<span class=\"tocSkip\"></span></h1>\n",
    "<div class=\"toc\"><ul class=\"toc-item\"><li><span><a href=\"#Genome-statistic-plotting\" data-toc-modified-id=\"Genome-statistic-plotting-1\"><span class=\"toc-item-num\">1&nbsp;&nbsp;</span>Genome statistic plotting</a></span></li></ul></div>"
   ]
  },
  {
   "cell_type": "markdown",
   "id": "847dab1d",
   "metadata": {
    "pycharm": {
     "name": "#%% md\n"
    }
   },
   "source": [
    "# Genome statistic plotting"
   ]
  },
  {
   "cell_type": "code",
   "execution_count": 17,
   "id": "1a4e79d4",
   "metadata": {
    "pycharm": {
     "name": "#%%\n"
    }
   },
   "outputs": [],
   "source": [
    "#Import packages\n",
    "import os\n",
    "import pandas as pd\n",
    "from matplotlib import pyplot as plt"
   ]
  },
  {
   "cell_type": "code",
   "execution_count": 24,
   "id": "52b909af",
   "metadata": {
    "pycharm": {
     "name": "#%%\n"
    }
   },
   "outputs": [],
   "source": [
    "data_dir = '/scratch/antwerpen/grp/asvardal/omics_techniques_2024/'"
   ]
  },
  {
   "cell_type": "code",
   "execution_count": 25,
   "id": "c5b56011",
   "metadata": {
    "pycharm": {
     "name": "#%%\n"
    }
   },
   "outputs": [],
   "source": [
    "metadata = pd.read_csv(os.path.join(data_dir,'hc_metadata.csv'), \n",
    "                        index_col=0)"
   ]
  },
  {
   "cell_type": "code",
   "execution_count": 28,
   "id": "b5915669",
   "metadata": {
    "pycharm": {
     "name": "#%%\n"
    }
   },
   "outputs": [],
   "source": [
    "pca_df = pd.read_csv(os.path.join(data_dir, \"HC_17.snps.pass.eigenvec\"), sep=' ', index_col=0, header=None)"
   ]
  },
  {
   "cell_type": "code",
   "execution_count": 42,
   "id": "d3d730e4",
   "metadata": {
    "pycharm": {
     "name": "#%%\n"
    }
   },
   "outputs": [],
   "source": [
    "pca_df.index = [s.split('.')[0] for s in pca_df.index]"
   ]
  },
  {
   "cell_type": "code",
   "execution_count": 51,
   "id": "fd25dfd2",
   "metadata": {
    "pycharm": {
     "name": "#%%\n"
    }
   },
   "outputs": [],
   "source": [
    "pca_df = pca_df.drop(1, axis=1)"
   ]
  },
  {
   "cell_type": "code",
   "execution_count": 55,
   "id": "3bd9abbe",
   "metadata": {
    "pycharm": {
     "name": "#%%\n"
    }
   },
   "outputs": [],
   "source": [
    "pca_df.columns = range(1, len(pca_df.columns) + 1)"
   ]
  },
  {
   "cell_type": "code",
   "execution_count": null,
   "id": "b3861b3a",
   "metadata": {
    "pycharm": {
     "name": "#%%\n",
     "is_executing": true
    }
   },
   "outputs": [],
   "source": [
    "fig = plt.figure(figsize=(6,6))\n",
    "ax = fig.add_subplot(1,1,1)\n",
    "\n",
    "for clade, df in metadata.groupby('Clade'):\n",
    "    plt.scatter(pca_df.loc[df.index, 3], pca_df.loc[df.index, 4], label=clade)\n",
    "    ax.set_xlabel('PC1')\n",
    "    ax.set_ylabel('PC2')\n",
    "plt.legend()"
   ]
  },
  {
   "cell_type": "code",
   "execution_count": 9,
   "id": "15daf112",
   "metadata": {
    "pycharm": {
     "name": "#%%\n"
    }
   },
   "outputs": [],
   "source": []
  },
  {
   "cell_type": "code",
   "execution_count": 6,
   "id": "912eb1f7",
   "metadata": {
    "pycharm": {
     "name": "#%%\n"
    }
   },
   "outputs": [
    {
     "name": "stdout",
     "output_type": "stream",
     "text": [
      "/user/antwerpen/205/vsc20518/MalawiGenomics/notebooks\r\n"
     ]
    }
   ],
   "source": []
  },
  {
   "cell_type": "code",
   "execution_count": null,
   "id": "288d4acc",
   "metadata": {
    "pycharm": {
     "name": "#%%\n"
    }
   },
   "outputs": [],
   "source": []
  }
 ],
 "metadata": {
  "kernelspec": {
   "display_name": "Python 3 (ipykernel)",
   "language": "python",
   "name": "python3"
  },
  "language_info": {
   "codemirror_mode": {
    "name": "ipython",
    "version": 3
   },
   "file_extension": ".py",
   "mimetype": "text/x-python",
   "name": "python",
   "nbconvert_exporter": "python",
   "pygments_lexer": "ipython3",
   "version": "3.9.7"
  },
  "toc": {
   "base_numbering": 1,
   "nav_menu": {},
   "number_sections": true,
   "sideBar": false,
   "skip_h1_title": false,
   "title_cell": "Table of Contents",
   "title_sidebar": "Contents",
   "toc_cell": true,
   "toc_position": {},
   "toc_section_display": true,
   "toc_window_display": false
  }
 },
 "nbformat": 4,
 "nbformat_minor": 5
}